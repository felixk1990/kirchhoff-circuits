{
 "cells": [
  {
   "cell_type": "code",
   "execution_count": 1,
   "metadata": {},
   "outputs": [
    {
     "name": "stdout",
     "output_type": "stream",
     "text": [
      "Name: \n",
      "Type: Graph\n",
      "Number of nodes: 32\n",
      "Number of edges: 41\n",
      "Average degree:   2.5625\n",
      "Name: \n",
      "Type: Graph\n",
      "Number of nodes: 31\n",
      "Number of edges: 40\n",
      "Average degree:   2.5806\n",
      "Name: \n",
      "Type: Graph\n",
      "Number of nodes: 177\n",
      "Number of edges: 304\n",
      "Average degree:   3.4350\n"
     ]
    },
    {
     "name": "stderr",
     "output_type": "stream",
     "text": [
      "/Users/kramer/anaconda3/lib/python3.7/site-packages/numpy/core/_asarray.py:83: VisibleDeprecationWarning: Creating an ndarray from ragged nested sequences (which is a list-or-tuple of lists-or-tuples-or ndarrays with different lengths or shapes) is deprecated. If you meant to do this, you must specify 'dtype=object' when creating the ndarray\n",
      "  return array(a, dtype, copy=False, order=order)\n"
     ]
    }
   ],
   "source": [
    "import kirchhoff.init_random as kir\n",
    "import networkx as nx\n",
    "constructors = {\n",
    "        'default': kir.NetworkxVoronoiPlanar,\n",
    "        'voronoi_planar': kir.NetworkxVoronoiPlanar,\n",
    "        'voronoi_volume': kir.NetworkxVoronoiVolume,\n",
    "        }\n",
    "for k,constr in constructors.items():\n",
    "    \n",
    "    grid = kir.init_graph_from_random(k, periods=10, sidelength=10)\n",
    "    print(nx.info(grid))"
   ]
  },
  {
   "cell_type": "code",
   "execution_count": 3,
   "metadata": {},
   "outputs": [
    {
     "name": "stdout",
     "output_type": "stream",
     "text": [
      "Name: \n",
      "Type: Graph\n",
      "Number of nodes: 32\n",
      "Number of edges: 36\n",
      "Average degree:   2.2500\n",
      "Name: \n",
      "Type: Graph\n",
      "Number of nodes: 27\n",
      "Number of edges: 54\n",
      "Average degree:   4.0000\n",
      "Name: \n",
      "Type: Graph\n",
      "Number of nodes: 32\n",
      "Number of edges: 36\n",
      "Average degree:   2.2500\n",
      "Name: \n",
      "Type: Graph\n",
      "Number of nodes: 27\n",
      "Number of edges: 54\n",
      "Average degree:   4.0000\n",
      "Name: \n",
      "Type: Graph\n",
      "Number of nodes: 89\n",
      "Number of edges: 126\n",
      "Average degree:   2.8315\n",
      "Name: \n",
      "Type: Graph\n",
      "Number of nodes: 89\n",
      "Number of edges: 126\n",
      "Average degree:   2.8315\n",
      "Name: \n",
      "Type: Graph\n",
      "Number of nodes: 206\n",
      "Number of edges: 259\n",
      "Average degree:   2.5146\n",
      "Name: \n",
      "Type: Graph\n",
      "Number of nodes: 210\n",
      "Number of edges: 261\n",
      "Average degree:   2.4857\n",
      "Name: \n",
      "Type: Graph\n",
      "Number of nodes: 8\n",
      "Number of edges: 10\n",
      "Average degree:   2.5000\n",
      "Name: \n",
      "Type: Graph\n",
      "Number of nodes: 10\n",
      "Number of edges: 13\n",
      "Average degree:   2.6000\n",
      "Name: \n",
      "Type: Graph\n",
      "Number of nodes: 8\n",
      "Number of edges: 10\n",
      "Average degree:   2.5000\n",
      "Name: \n",
      "Type: Graph\n",
      "Number of nodes: 10\n",
      "Number of edges: 13\n",
      "Average degree:   2.6000\n",
      "Name: \n",
      "Type: Graph\n",
      "Number of nodes: 16\n",
      "Number of edges: 24\n",
      "Average degree:   3.0000\n",
      "Name: \n",
      "Type: Graph\n",
      "Number of nodes: 16\n",
      "Number of edges: 24\n",
      "Average degree:   3.0000\n"
     ]
    }
   ],
   "source": [
    "import kirchhoff.init_dual as kid\n",
    "\n",
    "constructors = {\n",
    "        'default': kid.NetworkxDualSimple,\n",
    "        'simple': kid.NetworkxDualSimple,\n",
    "        'diamond': kid.NetworkxDualDiamond,\n",
    "        'laves': kid.NetworkxDualLaves,\n",
    "    }\n",
    "\n",
    "for k,constr in constructors.items():\n",
    "    \n",
    "    grid = kid.init_dual_minsurf_graphs(k, 3)\n",
    "    print(nx.info(grid.layer[0]))\n",
    "    print(nx.info(grid.layer[1]))\n",
    "    \n",
    "constructors = {\n",
    "        'default': kid.NetworkxDualCatenation,\n",
    "        'catenation': kid.NetworkxDualCatenation,\n",
    "        'crossMesh': kid.NetworkxDualCrossMesh,\n",
    "    }\n",
    "\n",
    "\n",
    "for k,constr in constructors.items():\n",
    "    \n",
    "    if k == 'crossMesh':\n",
    "        n = [3, 3, 3, 3]\n",
    "    else:\n",
    "        n = 3\n",
    "        \n",
    "    grid = kid.init_dualCatenation(k, n)\n",
    "    print(nx.info(grid.layer[0]))\n",
    "    print(nx.info(grid.layer[1]))"
   ]
  },
  {
   "cell_type": "code",
   "execution_count": null,
   "metadata": {},
   "outputs": [],
   "source": []
  }
 ],
 "metadata": {
  "kernelspec": {
   "display_name": "Python 3 (ipykernel)",
   "language": "python",
   "name": "python3"
  },
  "language_info": {
   "codemirror_mode": {
    "name": "ipython",
    "version": 3
   },
   "file_extension": ".py",
   "mimetype": "text/x-python",
   "name": "python",
   "nbconvert_exporter": "python",
   "pygments_lexer": "ipython3",
   "version": "3.7.3"
  }
 },
 "nbformat": 4,
 "nbformat_minor": 4
}
